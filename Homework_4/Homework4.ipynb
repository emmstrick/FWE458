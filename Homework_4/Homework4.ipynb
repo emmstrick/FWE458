{
  "nbformat": 4,
  "nbformat_minor": 0,
  "metadata": {
    "colab": {
      "provenance": []
    },
    "kernelspec": {
      "name": "python3",
      "display_name": "Python 3"
    },
    "language_info": {
      "name": "python"
    }
  },
  "cells": [
    {
      "cell_type": "code",
      "execution_count": 149,
      "metadata": {
        "colab": {
          "base_uri": "https://localhost:8080/"
        },
        "id": "HEcEDkk73XSI",
        "outputId": "0336f8e7-21ee-4aae-b4e3-e8eb58480e13"
      },
      "outputs": [
        {
          "output_type": "stream",
          "name": "stdout",
          "text": [
            "Drive already mounted at /content/drive; to attempt to forcibly remount, call drive.mount(\"/content/drive\", force_remount=True).\n",
            "     TIMESTAMP    TA_F  SW_IN_F  VPD_F  GPP_NT_VUT_REF\n",
            "0     19990101 -20.063   72.603  0.413       -0.517364\n",
            "1     19990102 -12.814   12.358  0.147       -0.094241\n",
            "2     19990103 -12.625   33.132  0.128       -0.166819\n",
            "3     19990104 -18.652   93.481  0.263       -0.582301\n",
            "4     19990105 -20.269   45.502  0.261       -0.568240\n",
            "..         ...     ...      ...    ...             ...\n",
            "995   20010922  12.015  154.721  3.462        3.405020\n",
            "996   20010923   7.151   90.117  2.627        2.370650\n",
            "997   20010924   4.579  179.627  3.379        2.075760\n",
            "998   20010925   6.722  205.829  4.549        1.853690\n",
            "999   20010926  10.014  190.559  3.442        1.623480\n",
            "\n",
            "[1000 rows x 5 columns]\n",
            "       TA      SW    VPD       GPP\n",
            "0 -20.063  72.603  0.413 -0.517364\n",
            "1 -12.814  12.358  0.147 -0.094241\n",
            "2 -12.625  33.132  0.128 -0.166819\n",
            "3 -18.652  93.481  0.263 -0.582301\n",
            "4 -20.269  45.502  0.261 -0.568240\n",
            "5 -18.251  81.222  0.265 -0.529415\n",
            "6 -22.224  86.926  0.269 -0.579116\n",
            "7 -17.083  27.168  0.211 -0.467588\n",
            "8 -20.887  55.583  0.207 -0.484122\n",
            "9 -22.017  47.494  0.235 -0.594398\n",
            "  message: Desired error not necessarily achieved due to precision loss.\n",
            "  success: False\n",
            "   status: 2\n",
            "      fun: 6.518384341748171\n",
            "        x: [ 2.556e-01  1.715e-02 -7.876e-01 -1.344e-02 -2.876e-03\n",
            "             1.563e-03  4.386e-02]\n",
            "      nit: 16\n",
            "      jac: [ 5.364e-07 -1.240e-05  1.311e-06  1.013e-06  2.110e-05\n",
            "             5.960e-07  2.682e-06]\n",
            " hess_inv: [[ 3.559e+00 -2.044e-02 ... -2.002e-04 -8.701e-03]\n",
            "            [-2.044e-02  2.631e-04 ... -7.654e-06  4.463e-04]\n",
            "            ...\n",
            "            [-2.002e-04 -7.654e-06 ...  1.577e-06 -3.496e-05]\n",
            "            [-8.701e-03  4.463e-04 ... -3.496e-05  2.730e-03]]\n",
            "     nfev: 436\n",
            "     njev: 53\n",
            "Coefficients: [ 0.01714709 -0.78754081 -0.0134535  -0.00287589  0.00156326  0.04385347]\n",
            "Intercept: 0.2556079499068429\n"
          ]
        }
      ],
      "source": [
        "import pandas as pd\n",
        "import numpy as np\n",
        "from sklearn.linear_model import LinearRegression\n",
        "from scipy.optimize import minimize\n",
        "from sklearn.metrics import r2_score\n",
        "from sklearn.model_selection import train_test_split\n",
        "from google.colab import drive # access google drive\n",
        "\n",
        "# Data Preprocessing\n",
        "drive.mount('/content/drive')\n",
        "filedir = '/content/drive/MyDrive/Colab_Notebooks/'\n",
        "filename = filedir + 'Wcr_GPPdaily.csv'\n",
        "GPP = pd.read_csv(filename) #read in csv file\n",
        "\n",
        "print(GPP.head(1000)) #print first 10 lines of dataframe\n",
        "\n",
        "GPP.rename(columns={\"TA_F\":\"TA\", \"SW_IN_F\": \"SW\", \"VPD_F\":\"VPD\", \"GPP_NT_VUT_REF\":\"GPP\" }, inplace=True) #rename columns\n",
        "GPP.drop(\"TIMESTAMP\",inplace=True, axis=1) #drop timestamp column\n",
        "print(GPP.head(10)) # confirm that columns are renamed and timestamp dropped\n",
        "\n",
        "GPP.isna().sum() # check for missing values (none)\n",
        "GPP.drop(GPP.index[GPP[\"GPP\"]==-9999] , inplace=True) #drop any rows with values equal to -9999\n",
        "\n",
        "# Interaction Terms\n",
        "\n",
        "GPP[\"SWxVPD\"] = GPP[\"SW\"] * GPP[\"VPD\"] #create new column equal to two columns multiplied\n",
        "GPP[\"SWxTA\"] = GPP[\"SW\"] * GPP[\"TA\"]\n",
        "GPP[\"VPDxTA\"] = GPP[\"VPD\"] * GPP[\"TA\"]\n",
        "\n",
        "# Linear Regression Model SciPy Optimize\n",
        "\n",
        "def costfunc(param, SW, VPD, TA, SWVPD, SWTA, VPDTA, GPPob):\n",
        "  b0, b1, b2, b3, b4, b5, b6 = param\n",
        "  GPPpred=b0+ b1*SW + b2*VPD + b3*TA + b4*SWVPD + b5*SWTA + b6*VPDTA #linear regression equation\n",
        "  diff = np.mean((GPPpred-GPPob)**2) #MSE equation\n",
        "  return diff\n",
        "\n",
        "guess = [10,10,10,10,10,10,10] #set initial params\n",
        "mymin = minimize(costfunc, guess, args=(GPP[\"SW\"], GPP[\"VPD\"], GPP[\"TA\"], GPP[\"SWxVPD\"], GPP[\"SWxTA\"], GPP[\"VPDxTA\"], GPP[\"GPP\"])) #call minimize on function\n",
        "b0, b1, b2, b3, b4, b5, b6 = mymin.x\n",
        "print(mymin)\n",
        "\n",
        "# Linear Regression sklearn\n",
        "\n",
        "x = GPP[[\"SW\", \"VPD\", \"TA\",\"SWxVPD\", \"SWxTA\", \"VPDxTA\" ]]  # Independent Variables\n",
        "y = GPP[\"GPP\"]  # Target Variable\n",
        "model = LinearRegression()\n",
        "model.fit(x, y) # run linear regression\n",
        "print(\"Coefficients:\", model.coef_)  # get coefficients\n",
        "print(\"Intercept:\", model.intercept_)  # get intercept\n",
        "\n",
        "# Compare models next code block\n"
      ]
    },
    {
      "cell_type": "code",
      "source": [
        "# Compare Models\n",
        "\n",
        "x_train, x_test, y_train, y_test = train_test_split(x, y) #split data into test and training datasets\n",
        "model = LinearRegression()\n",
        "model.fit(x_train, y_train) # create linear regression model in training data\n",
        "y_pred = model.predict(x_test) #predict GPP values using test data\n",
        "r2 = r2_score(y_test, y_pred) #compare real and predicted GPP values to get R2\n",
        "\n",
        "y_pred_scipy=[] #create empty list\n",
        "x_test = x_test.reset_index(drop=True) #reset index to be able to interate through it\n",
        "y_test = y_test.reset_index(drop=True)\n",
        "for i in range(0,len(x_test)):\n",
        "  value= 0.2555 + 0.01715 * x_test.loc[i, \"SW\"] - 0.7876 * x_test.loc[i, \"VPD\"] - 0.01344 * x_test.loc[i, \"TA\"] - .002876 * x_test.loc[i, \"SWxVPD\"] + .001563 * x_test.loc[i, \"SWxTA\"] + 0.04386 * x_test.loc[i, \"VPDxTA\"] #linear regression formula with coefficients from minimize\n",
        "  y_pred_scipy.append(value) #add GPP prediction to empty list\n",
        "\n",
        "r2_scipy = r2_score(y_test, y_pred_scipy) #r2 for scipy method\n",
        "\n",
        "print(f\"Sklearn R2: {r2}\")\n",
        "print(f\"Scipy R2: {r2_scipy}\")\n",
        "\n",
        "print(\"Sklearn Coefficients:\", model.intercept_, model.coef_, \"vs Scipy Minimize Coefficients:[2.555e-01  1.715e-02 -7.876e-01 -1.344e-02 -2.876e-03 1.563e-03  4.386e-02]\")#compare coefficents\n",
        "# Coefficients are very close to one another"
      ],
      "metadata": {
        "colab": {
          "base_uri": "https://localhost:8080/"
        },
        "id": "gNX9_V-MjJn7",
        "outputId": "456e41ad-a03c-40fd-9f4b-d8db2eecd992"
      },
      "execution_count": 150,
      "outputs": [
        {
          "output_type": "stream",
          "name": "stdout",
          "text": [
            "Sklearn R2: 0.6860029312924152\n",
            "Scipy R2: 0.6865017969096552\n",
            "Sklearn Coefficients: 0.24977748988446846 [ 0.01697167 -0.76502826 -0.0177103  -0.00301114  0.00160066  0.04390909] vs Scipy Minimize Coefficients:[2.555e-01  1.715e-02 -7.876e-01 -1.344e-02 -2.876e-03 1.563e-03  4.386e-02]\n"
          ]
        }
      ]
    }
  ]
}