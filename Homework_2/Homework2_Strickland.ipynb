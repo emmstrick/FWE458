{
  "nbformat": 4,
  "nbformat_minor": 0,
  "metadata": {
    "colab": {
      "provenance": [],
      "authorship_tag": "ABX9TyODAwhOEhdv7HOpLH6ktqZn",
      "include_colab_link": true
    },
    "kernelspec": {
      "name": "python3",
      "display_name": "Python 3"
    },
    "language_info": {
      "name": "python"
    }
  },
  "cells": [
    {
      "cell_type": "markdown",
      "metadata": {
        "id": "view-in-github",
        "colab_type": "text"
      },
      "source": [
        "<a href=\"https://colab.research.google.com/github/emmstrick/FWE458/blob/main/Homework2_Strickland.ipynb\" target=\"_parent\"><img src=\"https://colab.research.google.com/assets/colab-badge.svg\" alt=\"Open In Colab\"/></a>"
      ]
    },
    {
      "cell_type": "code",
      "execution_count": null,
      "metadata": {
        "colab": {
          "base_uri": "https://localhost:8080/"
        },
        "id": "OVLKTJmQvh7i",
        "outputId": "d88e36c8-04b3-4106-d72d-2d6eeed0a389"
      },
      "outputs": [
        {
          "output_type": "stream",
          "name": "stdout",
          "text": [
            "The orignial list [88, 87, 58, 28, 10, 66, 98, 86, 25, 37, 93, 90, 75, 78, 9, 94, 34, 43, 73, 48, 77, 55, 53, 91, 8, 24, 2, 7, 41, 1, 20, 85, 71, 36, 59, 57, 6, 60, 18, 31, 54, 27, 51, 68, 29, 12, 67, 72, 19, 56]\n",
            "The list after bubble sort [1, 2, 6, 7, 8, 9, 10, 12, 18, 19, 20, 24, 25, 27, 28, 29, 31, 34, 36, 37, 41, 43, 48, 51, 53, 54, 55, 56, 57, 58, 59, 60, 66, 67, 68, 71, 72, 73, 75, 77, 78, 85, 86, 87, 88, 90, 91, 93, 94, 98]\n",
            "The list after insertion sort [1, 2, 6, 7, 8, 9, 10, 12, 18, 19, 20, 24, 25, 27, 28, 29, 31, 34, 36, 37, 41, 43, 48, 51, 53, 54, 55, 56, 57, 58, 59, 60, 66, 67, 68, 71, 72, 73, 75, 77, 78, 85, 86, 87, 88, 90, 91, 93, 94, 98]\n"
          ]
        }
      ],
      "source": [
        "# Create list of 50 random elements\n",
        "\n",
        "import random\n",
        "\n",
        "random_list = random.sample(range(1,100),50) #creates a random list of 50 elements from a range of 1 to 100.\n",
        "\n",
        "# Bubble sort algorithm\n",
        "def bubble_sort(L):\n",
        "  for i in range(0,len(L)-1): # iterates through each position in list\n",
        "    for j in range(0,len(L)-i-1): # iterate to compare values\n",
        "      if L[j] > L[j+1]: # checks if the value is greater than the one next to it\n",
        "        L[j], L[j+1] = L[j+1], L[j] # if it is greater then swap the values in list placement\n",
        "\n",
        "  return L #return sorted list\n",
        "\n",
        "# Insertion Sort\n",
        "def insertion_sort(L):\n",
        "  for i in range(0, len(L)-1): #iterate over length of list\n",
        "    currentvalue = L[i] # create variable to represent the value in list\n",
        "    position = i-1 # create variable to represent the position of the value before\n",
        "    while position >= 0 and currentvalue < L[position]: # if element to left is greater than the current value\n",
        "            L[position+1] = L[position] #shift to right\n",
        "            position -= 1\n",
        "    L[position+1] = currentvalue\n",
        "  return L\n",
        "\n",
        "# Testing\n",
        "print(\"The orignial list\", random_list)\n",
        "print(\"The list after bubble sort\", bubble_sort(random_list))\n",
        "print(\"The list after insertion sort\", insertion_sort(random_list))\n"
      ]
    },
    {
      "cell_type": "code",
      "source": [],
      "metadata": {
        "id": "LtkBaN_8_WnC"
      },
      "execution_count": null,
      "outputs": []
    }
  ]
}