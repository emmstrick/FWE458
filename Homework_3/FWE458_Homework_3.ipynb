{
  "nbformat": 4,
  "nbformat_minor": 0,
  "metadata": {
    "colab": {
      "provenance": []
    },
    "kernelspec": {
      "name": "python3",
      "display_name": "Python 3"
    },
    "language_info": {
      "name": "python"
    }
  },
  "cells": [
    {
      "cell_type": "code",
      "execution_count": 36,
      "metadata": {
        "colab": {
          "base_uri": "https://localhost:8080/"
        },
        "id": "p8gJVPwS2AHm",
        "outputId": "d4145846-bafb-4765-d1b8-1ea4cccfba5d"
      },
      "outputs": [
        {
          "output_type": "stream",
          "name": "stdout",
          "text": [
            "Drive already mounted at /content/drive; to attempt to forcibly remount, call drive.mount(\"/content/drive\", force_remount=True).\n",
            "    Year  Month  Decimal_date  Monthly_average  deseasonalized  numofdays  \\\n",
            "0   1958      3     1958.2027           315.70          314.43         -1   \n",
            "1   1958      4     1958.2877           317.45          315.16         -1   \n",
            "2   1958      5     1958.3699           317.51          314.71         -1   \n",
            "3   1958      6     1958.4548           317.24          315.14         -1   \n",
            "4   1958      7     1958.5370           315.86          315.18         -1   \n",
            "5   1958      8     1958.6219           314.93          316.18         -1   \n",
            "6   1958      9     1958.7068           313.20          316.08         -1   \n",
            "7   1958     10     1958.7890           312.43          315.41         -1   \n",
            "8   1958     11     1958.8740           313.33          315.20         -1   \n",
            "9   1958     12     1958.9562           314.67          315.43         -1   \n",
            "10  1959      1     1959.0411           315.58          315.55         -1   \n",
            "\n",
            "    stdofdays      site  \n",
            "0       -9.99  MaunaLoa  \n",
            "1       -9.99  MaunaLoa  \n",
            "2       -9.99  MaunaLoa  \n",
            "3       -9.99  MaunaLoa  \n",
            "4       -9.99  MaunaLoa  \n",
            "5       -9.99  MaunaLoa  \n",
            "6       -9.99  MaunaLoa  \n",
            "7       -9.99  MaunaLoa  \n",
            "8       -9.99  MaunaLoa  \n",
            "9       -9.99  MaunaLoa  \n",
            "10      -9.99  MaunaLoa  \n",
            "    Year  Month  Decimal_date  Monthly_average  deseasonalized  numofdays  \\\n",
            "10  1959      1     1959.0411           315.58          315.55         -1   \n",
            "11  1959      2     1959.1260           316.48          315.86         -1   \n",
            "12  1959      3     1959.2027           316.65          315.38         -1   \n",
            "\n",
            "    stdofdays      site  \n",
            "10      -9.99  MaunaLoa  \n",
            "11      -9.99  MaunaLoa  \n",
            "12      -9.99  MaunaLoa  \n"
          ]
        }
      ],
      "source": [
        "# Import the Data\n",
        "\n",
        "from google.colab import drive #access google drive\n",
        "import pandas as pd\n",
        "\n",
        "drive.mount('/content/drive') # mount google drive\n",
        "filedir = '/content/drive/MyDrive/Colab_Notebooks/'\n",
        "filename = filedir + 'MaunaLoaCO2_monthly_sitename.csv' #create path to file\n",
        "\n",
        "mauna = pd.read_csv(filename) # read in file as dataframe called mauna\n",
        "\n",
        "print(mauna.head(11)) #show first few rows of dataframe\n",
        "\n",
        "# Filter data\n",
        "\n",
        "years_to_drop = [1958, 2022]\n",
        "mauna.drop(mauna.index[mauna[\"Year\"].isin(years_to_drop)], inplace=True) #drop any rows where year is equal to 1958 or 2022\n",
        "\n",
        "print(mauna.head(3)) # check to see if rows got excluded\n",
        "\n",
        "mauna.drop(mauna.index[(mauna[\"numofdays\"]==-1) | (mauna[\"stdofdays\"]==-9.99)], inplace=True) # drop any rows where negative values are in columns\n",
        "\n",
        "# Compute annual statistics\n",
        "\n",
        "annual_average = mauna.groupby(\"Year\")[\"Monthly_average\"].mean() # yearly average of monthly_average column\n",
        "annual_deasonalized_average = mauna.groupby(\"Year\")[\"deseasonalized\"].mean() # yearly average of deseasonalized column\n",
        "std_of_months = mauna.groupby(\"Year\")[\"Monthly_average\"].std() # standard deviation of monthly_average column by year\n",
        "\n",
        "# Apply custom function\n",
        "\n",
        "def classify_co2(value):\n",
        "  if value < 350:\n",
        "    return \"Low\"\n",
        "  elif value < 400:\n",
        "    return \"Medium\"\n",
        "  else:\n",
        "    return \"High\"\n",
        "\n",
        "mauna[\"CO2_Category\"] = mauna['Monthly_average'].apply(classify_co2) # creates new columns where function is applied to monthly_average values\n",
        "\n",
        "# Save dataframe\n",
        "\n",
        "mauna.to_csv(filedir + \"Strickland_MaunaLoaCO2_annual_HW3.csv\") # saves dataframe as .csv in my cloned respository folder')\n",
        "\n"
      ]
    }
  ]
}